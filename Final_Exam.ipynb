{
  "nbformat": 4,
  "nbformat_minor": 0,
  "metadata": {
    "colab": {
      "name": "Final Exam.ipynb",
      "provenance": [],
      "collapsed_sections": [
        "IwauFWmX13BF"
      ],
      "authorship_tag": "ABX9TyMauLGBUSfpwnvuV/R5ITA2",
      "include_colab_link": true
    },
    "kernelspec": {
      "name": "python3",
      "display_name": "Python 3"
    },
    "language_info": {
      "name": "python"
    }
  },
  "cells": [
    {
      "cell_type": "markdown",
      "metadata": {
        "id": "view-in-github",
        "colab_type": "text"
      },
      "source": [
        "<a href=\"https://colab.research.google.com/github/janmilson-dinglasan/CPEN-21A-ECE-2-1/blob/main/Final_Exam.ipynb\" target=\"_parent\"><img src=\"https://colab.research.google.com/assets/colab-badge.svg\" alt=\"Open In Colab\"/></a>"
      ]
    },
    {
      "cell_type": "markdown",
      "source": [
        "##Final Exam"
      ],
      "metadata": {
        "id": "kd-NvCVZ1Jqu"
      }
    },
    {
      "cell_type": "markdown",
      "source": [
        "Problem Statement 1\n"
      ],
      "metadata": {
        "id": "IwauFWmX13BF"
      }
    },
    {
      "cell_type": "code",
      "source": [
        "sum=0\n",
        "for x in[-5,-4,-3,-2,-1,0,1,2,3,4]:\n",
        "  sum=sum + x\n",
        "print(sum)"
      ],
      "metadata": {
        "colab": {
          "base_uri": "https://localhost:8080/"
        },
        "id": "2DKzyJPZ4pKs",
        "outputId": "78afe7a6-504a-46e5-e238-cd39b8b2c83d"
      },
      "execution_count": 7,
      "outputs": [
        {
          "output_type": "stream",
          "name": "stdout",
          "text": [
            "-5\n"
          ]
        }
      ]
    },
    {
      "cell_type": "markdown",
      "source": [
        "Problem Statement 2"
      ],
      "metadata": {
        "id": "aA7XDALA5ah1"
      }
    },
    {
      "cell_type": "code",
      "source": [
        "i=1\n",
        "while i<6:\n",
        "  print(i)\n",
        "  i+=1\n",
        "\n",
        "sum=0\n",
        "x=sum+1\n",
        "whiley==5\n",
        "print(x+y)\n"
      ],
      "metadata": {
        "colab": {
          "base_uri": "https://localhost:8080/"
        },
        "id": "zI4n_Ot85wSE",
        "outputId": "1542f8a3-6bc7-4c7a-d024-6e2630a8d1ca"
      },
      "execution_count": 38,
      "outputs": [
        {
          "output_type": "stream",
          "name": "stdout",
          "text": [
            "1\n",
            "2\n",
            "3\n",
            "4\n",
            "5\n",
            "6\n"
          ]
        }
      ]
    },
    {
      "cell_type": "markdown",
      "source": [
        "Problem Statement 3"
      ],
      "metadata": {
        "id": "e9SYfhR6Ekrp"
      }
    },
    {
      "cell_type": "code",
      "source": [
        "print(\"Enter Grade:\")\n",
        "grade=int(input())\n",
        "\n",
        "if grade>=90 and grade<=100:\n",
        "  print(\"Your Grade is A\")\n",
        "elif grade>79 and grade<90:\n",
        "  print(\"Your Grade is B\")\n",
        "elif grade>69 and grade<80:\n",
        "  print(\"Your Grade is C\")\n",
        "elif grade>59 and grade <70:\n",
        "  print(\"Your Grade is D\")\n",
        "else:\n",
        "  print(\"Your Grade is F\")"
      ],
      "metadata": {
        "colab": {
          "base_uri": "https://localhost:8080/"
        },
        "id": "qnSQYiNHEzPJ",
        "outputId": "f8048bf2-6b25-40de-8fdc-b214f4b7dca0"
      },
      "execution_count": 56,
      "outputs": [
        {
          "output_type": "stream",
          "name": "stdout",
          "text": [
            "Enter Grade:\n",
            "89\n",
            "Your Grade is B\n"
          ]
        }
      ]
    }
  ]
}