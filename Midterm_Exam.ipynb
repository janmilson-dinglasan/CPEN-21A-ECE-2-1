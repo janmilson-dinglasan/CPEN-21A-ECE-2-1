{
  "nbformat": 4,
  "nbformat_minor": 0,
  "metadata": {
    "colab": {
      "name": "Midterm Exam.ipynb",
      "provenance": [],
      "authorship_tag": "ABX9TyMk6ImESGRV36VX/Apzu5lD",
      "include_colab_link": true
    },
    "kernelspec": {
      "name": "python3",
      "display_name": "Python 3"
    },
    "language_info": {
      "name": "python"
    }
  },
  "cells": [
    {
      "cell_type": "markdown",
      "metadata": {
        "id": "view-in-github",
        "colab_type": "text"
      },
      "source": [
        "<a href=\"https://colab.research.google.com/github/janmilson-dinglasan/CPEN-21A-ECE-2-1/blob/main/Midterm_Exam.ipynb\" target=\"_parent\"><img src=\"https://colab.research.google.com/assets/colab-badge.svg\" alt=\"Open In Colab\"/></a>"
      ]
    },
    {
      "cell_type": "markdown",
      "metadata": {
        "id": "5e_dlyOq9Kn5"
      },
      "source": [
        "#Problem Statement 1\n",
        "# New Section"
      ]
    },
    {
      "cell_type": "code",
      "metadata": {
        "colab": {
          "base_uri": "https://localhost:8080/"
        },
        "id": "jFYDvV1-9UmP",
        "outputId": "da33bb84-64ce-4a62-9863-c6456a3744b9"
      },
      "source": [
        "\n",
        "print(\"Name:  (Janmilson P. Dinglasan)\\nStudent Number: 202012633\\nAge:  19\\nBirthday: January 17, 2002\\nAddress:  253 Alingaro General Trias Cavite\\nCourse: BS Electronics \\nGWA: 1.46\") \n",
        "\n",
        "\n",
        "\n",
        "\n",
        "\n",
        "\n",
        "\n"
      ],
      "execution_count": 20,
      "outputs": [
        {
          "output_type": "stream",
          "name": "stdout",
          "text": [
            "Name:  (Janmilson P. Dinglasan)\n",
            "Student Number: 202012633\n",
            "Age:  19\n",
            "Birthday: January 17, 2002\n",
            "Address:  253 Alingaro General Trias Cavite\n",
            "Course: BS Electronics \n",
            "GWA: 1.46\n"
          ]
        }
      ]
    },
    {
      "cell_type": "markdown",
      "metadata": {
        "id": "QtvCvzvaDPLx"
      },
      "source": [
        "##Problem Statement \n"
      ]
    },
    {
      "cell_type": "code",
      "metadata": {
        "colab": {
          "base_uri": "https://localhost:8080/"
        },
        "id": "FwDxwW0nDV5_",
        "outputId": "2fe3530e-74a0-42e3-ecf7-c8a684ee4eb0"
      },
      "source": [
        "n=4\n",
        "\n",
        "print(2<n)\n",
        "print(n>6)\n",
        "\n",
        "print(2<n)\n",
        "print(n==6)\n",
        "\n",
        "print(2>n)\n",
        "print(n!=6)\n",
        "\n",
        "\n",
        "\n",
        "\n",
        "\n"
      ],
      "execution_count": 30,
      "outputs": [
        {
          "output_type": "stream",
          "name": "stdout",
          "text": [
            "True\n",
            "False\n",
            "True\n",
            "False\n",
            "False\n",
            "True\n"
          ]
        }
      ]
    },
    {
      "cell_type": "markdown",
      "metadata": {
        "id": "auVCDPitGEfv"
      },
      "source": [
        "##Problem Statement 3\n"
      ]
    },
    {
      "cell_type": "code",
      "metadata": {
        "colab": {
          "base_uri": "https://localhost:8080/"
        },
        "id": "1sPqDCatGHOP",
        "outputId": "ca853812-e210-49a2-e0fa-838746b66815"
      },
      "source": [
        "x=2\n",
        "y=-3\n",
        "w=7\n",
        "z=-10\n",
        "\n",
        "print(x/y)\n",
        "print(w/y/x)\n",
        "print(z/y%x)\n",
        "print(x%-y*w)\n",
        "print(z%w-y/x*5+5)\n",
        "print(9-x%(2+y))\n",
        "print(z//w)\n",
        "print((2+y)**2)\n",
        "print(w/x*2)"
      ],
      "execution_count": 33,
      "outputs": [
        {
          "output_type": "stream",
          "name": "stdout",
          "text": [
            "-0.6666666666666666\n",
            "-1.1666666666666667\n",
            "1.3333333333333335\n",
            "14\n",
            "16.5\n",
            "9\n",
            "-2\n",
            "1\n",
            "7.0\n"
          ]
        }
      ]
    }
  ]
}